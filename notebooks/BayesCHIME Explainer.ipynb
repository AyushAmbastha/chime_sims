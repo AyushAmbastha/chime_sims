{
 "cells": [
  {
   "cell_type": "markdown",
   "metadata": {},
   "source": [
    "# BayesCHIME\n",
    "\n",
    "Many factors surrounding the transmission, severity of infections, and remaining susceptibility of local populations to COVID-19 remain highly uncertain. However, as new data on hospitalized cases becomes available, we wish to incorporate this data in order to update and refine our projections of future demand to better inform capacity planners. To that end we have extended CHIME to increase the epidemiological process realism and to coherently incorporate new data as it becomes available. This extension allows us to transition from a small number of scenarios to assess best and worst case projections based on parameter assumptions, to a probabilistic forecast representing a continuous distribution of likely scenarios.\n",
    "\n",
    "\n",
    "### Disrete-time SEIR model\n",
    "\n",
    "The first extention we have included is to explicitly model the incubation period between when an individual is exposed to when they become infectious. This model consists of individuals who are either _Susceptible_ ($S$), _Exposed_ ($E$), _Infected_ ($I$), or _Recovered_ ($R$). \n",
    "\n",
    "The epidemic proceeds via a growth and decline process. This is the core model of infectious disease spread and has been in use in epidemiology for many years. The dynamics are given by the following 4 equations.\n",
    "\n",
    "$$S_{t+1} = (-\\beta (S_t/N) I_t) + S_t$$\n",
    "\n",
    "$$E_{t+1} = (\\beta (S_t/N) I_t - \\gamma * E) + E_t$$\n",
    "\n",
    "$$I_{t+1} = (\\alpha E_t - \\gamma I_t) + I_t$$\n",
    "\n",
    "$$R_{t+1} = (\\gamma I_t) + R_t$$\n",
    "\n",
    "where\n",
    "\n",
    "$$S + E + I + R = N $$\n",
    "\n",
    "From this model we then layer estimate hospital and vent census by estimating what proportion of each newly infected case will require hospitalization, and what proportion of those will require ventilation, along with how long each of these resources will be required per patient. \n",
    "\n",
    "We can think of the collection of unknown parameters that we need to estimate in order to get a projection as the set $\\theta$. For any given set of input parameters, we get a unique projection of daily admissions and census for each level of care required. To date, we have used our best estimates of what we beleive to be the value of each of thes parameters, then running a variety of scenarios against the bounds of plausible parameter estimates. \n",
    "\n",
    "\n",
    "### Bayesian Extention\n",
    "\n",
    "Now that we've started accumulating significant data, we can integrate this data into our model to inform the relative likelihood of various parameter combinations. From these newly data-informed distribution of parameters, we then produce a _distribution_ of projections. The result is a forecast which provides probability distributions over likely future outcomes that are informed by a combination of what we've seen so far, and what we know about input parameters from other locations. \n",
    "\n",
    "Formally, we're modeling the probabilty distribution of parameters $\\theta$ by incorporating what we beleive about the parameters ($P(\\theta)$) and what we have observed so far (the census of hospitalized COVID-19 patients to date, $H_{t<=now}$, and the census of ventilated COVID-19 patients to date, $V_{t<=0}$. Using Bayes theorem, we get:\n",
    " \n",
    "$$P(\\theta \\vert H_{t<=0}, V_{t<=0}) \\propto P(H_{t<=0}, V_{t<=0} \\vert \\theta) P(\\theta)$$\n",
    "\n",
    "From which we can then project distributions of future outcomes $H_{t>0}$,  $V_{t>0}$ by simulating the SIR forward in time using our newly data-informed distribution of parameters. \n",
    "\n",
    "### Output interpretation\n",
    "\n",
    "The outputs of BayesCHIME are _probability distributions_ over future paths of the regional epidemic. These distributions can be used to ask a variety of questions, for example:\n",
    "\n",
    "- What is the probabilty that more than $x$ ventilators will be needed?\n",
    "- What is the probabilty that more than $x$ ventilators will be needed by some specific date?\n",
    "- What is the maximum census we can expect with 90% confidence in 7 days?\n",
    "- How likely is a recent flattening trend to continue?"
   ]
  },
  {
   "cell_type": "code",
   "execution_count": null,
   "metadata": {},
   "outputs": [],
   "source": []
  }
 ],
 "metadata": {
  "kernelspec": {
   "display_name": "Python 3",
   "language": "python",
   "name": "python3"
  },
  "language_info": {
   "codemirror_mode": {
    "name": "ipython",
    "version": 3
   },
   "file_extension": ".py",
   "mimetype": "text/x-python",
   "name": "python",
   "nbconvert_exporter": "python",
   "pygments_lexer": "ipython3",
   "version": "3.7.4"
  }
 },
 "nbformat": 4,
 "nbformat_minor": 2
}
