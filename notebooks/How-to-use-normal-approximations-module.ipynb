{
 "cells": [
  {
   "cell_type": "markdown",
   "metadata": {},
   "source": [
    "# How to use the normal approximations module"
   ]
  },
  {
   "cell_type": "code",
   "execution_count": null,
   "metadata": {},
   "outputs": [],
   "source": [
    "from os import getcwd, path\n",
    "\n",
    "from pandas import read_csv, read_json\n",
    "\n",
    "from bayes_chime.normal.models import SEIRModel\n",
    "from bayes_chime.normal.utilities import one_minus_logistic_fcn\n",
    "\n",
    "import bayes_chime.normal.fitting as ft\n",
    "import bayes_chime.normal.plotting as pl\n",
    "\n",
    "from seaborn import FacetGrid, distplot\n",
    "from matplotlib.pylab import show as show_plot\n",
    "\n",
    "from importlib import reload"
   ]
  },
  {
   "cell_type": "code",
   "execution_count": null,
   "metadata": {},
   "outputs": [],
   "source": [
    "ROOT = path.dirname(getcwd())\n",
    "RUN = \"2020_04_22_09_07_17\""
   ]
  },
  {
   "cell_type": "code",
   "execution_count": null,
   "metadata": {},
   "outputs": [],
   "source": [
    "OUTPUT = path.join(ROOT, \"output\", RUN)\n",
    "DATA = path.join(ROOT, OUTPUT, \"parameters\")"
   ]
  },
  {
   "cell_type": "code",
   "execution_count": null,
   "metadata": {},
   "outputs": [],
   "source": [
    "data_df = (\n",
    "    read_csv(path.join(DATA, \"census_ts.csv\"), parse_dates=[\"date\"])\n",
    "    .dropna(how=\"all\", axis=1)\n",
    "    .fillna(0)\n",
    "    .set_index(\"date\")\n",
    "    .astype(int)\n",
    ")\n",
    "data_df.head()"
   ]
  },
  {
   "cell_type": "code",
   "execution_count": null,
   "metadata": {},
   "outputs": [],
   "source": [
    "prior_df = read_csv(path.join(DATA, f\"params.csv\"))\n",
    "priors = ft.fit_norm_to_prior_df(prior_df)\n",
    "prior_df"
   ]
  },
  {
   "cell_type": "code",
   "execution_count": null,
   "metadata": {},
   "outputs": [],
   "source": [
    "g = FacetGrid(\n",
    "    prior_df.query(\"distribution != 'constant'\"),\n",
    "    col=\"param\",\n",
    "    col_wrap=5,\n",
    "    sharex=False,\n",
    "    sharey=False,\n",
    ")\n",
    "g.map_dataframe(pl.plot_prior_fit)\n",
    "show_plot(g)"
   ]
  },
  {
   "cell_type": "markdown",
   "metadata": {},
   "source": [
    "The line below may take a while maybe `HDF5` might be a more suiteable format"
   ]
  },
  {
   "cell_type": "code",
   "execution_count": null,
   "metadata": {},
   "outputs": [],
   "source": [
    "posterior_df = read_json(\n",
    "    path.join(OUTPUT, \"output\", \"chains.json.bz2\"), orient=\"records\", lines=True\n",
    ")\n",
    "drop_cols = [\n",
    "    col\n",
    "    for col in posterior_df.columns\n",
    "    if not col in prior_df.param.values and col != \"offset\"\n",
    "]\n",
    "posterior_df = posterior_df.drop(columns=drop_cols)"
   ]
  },
  {
   "cell_type": "code",
   "execution_count": null,
   "metadata": {},
   "outputs": [],
   "source": [
    "posterior_df.head()"
   ]
  },
  {
   "cell_type": "code",
   "execution_count": null,
   "metadata": {},
   "outputs": [],
   "source": [
    "posteriors = {}\n",
    "for col in posterior_df.columns:\n",
    "    if isinstance(priors.get(col, 0), float):\n",
    "        continue\n",
    "    posteriors[col] = ft.fit_norm_dist_to_ens(posterior_df[col].values)\n",
    "\n",
    "posteriors"
   ]
  },
  {
   "cell_type": "code",
   "execution_count": null,
   "metadata": {},
   "outputs": [],
   "source": [
    "def fcn(**kwargs):\n",
    "    distplot(a=kwargs[\"data\"].x.values)"
   ]
  },
  {
   "cell_type": "code",
   "execution_count": null,
   "metadata": {},
   "outputs": [],
   "source": [
    "stacked = posterior_df.stack().reset_index().drop(columns=[\"level_0\"]).rename(\n",
    "    columns={\"level_1\": \"param\", 0: \"x\"}\n",
    ")\n",
    "g = FacetGrid(\n",
    "    stacked,\n",
    "    col=\"param\",\n",
    "    col_wrap=5,\n",
    "    sharex=False,\n",
    "    sharey=False,\n",
    ")\n",
    "g.map_dataframe(fcn)\n",
    "show_plot(g)"
   ]
  },
  {
   "cell_type": "code",
   "execution_count": null,
   "metadata": {},
   "outputs": [],
   "source": []
  }
 ],
 "metadata": {
  "kernelspec": {
   "display_name": "chime",
   "language": "python",
   "name": "chime"
  },
  "language_info": {
   "codemirror_mode": {
    "name": "ipython",
    "version": 3
   },
   "file_extension": ".py",
   "mimetype": "text/x-python",
   "name": "python",
   "nbconvert_exporter": "python",
   "pygments_lexer": "ipython3",
   "version": "3.7.5"
  }
 },
 "nbformat": 4,
 "nbformat_minor": 2
}
