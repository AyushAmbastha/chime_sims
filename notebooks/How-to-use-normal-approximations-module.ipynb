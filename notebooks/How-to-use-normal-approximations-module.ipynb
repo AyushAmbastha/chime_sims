{
 "cells": [
  {
   "cell_type": "markdown",
   "metadata": {},
   "source": [
    "# How to use the normal approximations module"
   ]
  },
  {
   "cell_type": "code",
   "execution_count": null,
   "metadata": {},
   "outputs": [],
   "source": [
    "from os import getcwd, path\n",
    "\n",
    "from datetime import timedelta\n",
    "\n",
    "from pandas import read_csv, read_json, DataFrame, Series, date_range, concat\n",
    "\n",
    "from gvar import gvar\n",
    "from gvar import mean as gv_mean\n",
    "from gvar import sdev as gv_sdev\n",
    "\n",
    "from lsqfit import nonlinear_fit\n",
    "\n",
    "from seaborn import FacetGrid, distplot, despine\n",
    "from matplotlib.pylab import show as show_plot\n",
    "from matplotlib.pylab import subplots\n",
    "\n",
    "from bayes_chime.normal.models import SEIRModel\n",
    "from bayes_chime.normal import models as m\n",
    "from bayes_chime.normal.utilities import one_minus_logistic_fcn\n",
    "from bayes_chime.normal.fitting import fit_norm_to_prior_df, fit_norm_dist_to_ens\n",
    "from bayes_chime.normal.plotting import (\n",
    "    plot_prior_fit,\n",
    "    plot_band,\n",
    "    plot_gvar,\n",
    "    plot_posterior_fit,\n",
    ")"
   ]
  },
  {
   "cell_type": "code",
   "execution_count": null,
   "metadata": {},
   "outputs": [],
   "source": [
    "ROOT = path.dirname(getcwd())\n",
    "RUN = \"2020_04_22_09_07_17\""
   ]
  },
  {
   "cell_type": "code",
   "execution_count": null,
   "metadata": {},
   "outputs": [],
   "source": [
    "OUTPUT = path.join(ROOT, \"output\", RUN)\n",
    "DATA = path.join(OUTPUT, \"parameters\")"
   ]
  },
  {
   "cell_type": "markdown",
   "metadata": {},
   "source": [
    "## Read in data"
   ]
  },
  {
   "cell_type": "code",
   "execution_count": null,
   "metadata": {},
   "outputs": [],
   "source": [
    "DATA_DF = (\n",
    "    read_csv(path.join(DATA, \"census_ts.csv\"), parse_dates=[\"date\"])\n",
    "    .dropna(how=\"all\", axis=1)\n",
    "    .fillna(0)\n",
    "    .set_index(\"date\")\n",
    "    .astype(int)\n",
    ")\n",
    "DATA_DF.head()"
   ]
  },
  {
   "cell_type": "markdown",
   "metadata": {},
   "source": [
    "## Fit priors"
   ]
  },
  {
   "cell_type": "code",
   "execution_count": null,
   "metadata": {},
   "outputs": [],
   "source": [
    "PRIOR_DF = read_csv(path.join(DATA, f\"params.csv\"))\n",
    "PRIOR_DF.head()"
   ]
  },
  {
   "cell_type": "code",
   "execution_count": null,
   "metadata": {
    "scrolled": false
   },
   "outputs": [],
   "source": [
    "PRIORS = fit_norm_to_prior_df(PRIOR_DF.query(\"distribution != 'constant'\"))\n",
    "META_PARS = fit_norm_to_prior_df(PRIOR_DF.query(\"distribution == 'constant'\"))"
   ]
  },
  {
   "cell_type": "code",
   "execution_count": null,
   "metadata": {},
   "outputs": [],
   "source": [
    "g = FacetGrid(\n",
    "    PRIOR_DF.query(\"distribution != 'constant'\"),\n",
    "    col=\"param\",\n",
    "    col_wrap=5,\n",
    "    sharex=False,\n",
    "    sharey=False,\n",
    ")\n",
    "g.map_dataframe(plot_prior_fit)\n",
    "show_plot(g)\n",
    "DataFrame(data=PRIORS, index=[\"val\"]).T"
   ]
  },
  {
   "cell_type": "markdown",
   "metadata": {},
   "source": [
    "## Fit posteriors"
   ]
  },
  {
   "cell_type": "markdown",
   "metadata": {},
   "source": [
    "The line below which reads in json may take a while. Maybe exporting to `HDF5` might be faster."
   ]
  },
  {
   "cell_type": "code",
   "execution_count": null,
   "metadata": {},
   "outputs": [],
   "source": [
    "POSTERIOR_DF = read_json(\n",
    "    path.join(OUTPUT, \"output\", \"chains.json.bz2\"), orient=\"records\", lines=True\n",
    ")\n",
    "drop_cols = [\n",
    "    col for col in POSTERIOR_DF.columns if col not in PRIORS and col != \"offset\"\n",
    "]\n",
    "POSTERIOR_DF = POSTERIOR_DF.drop(columns=drop_cols)"
   ]
  },
  {
   "cell_type": "markdown",
   "metadata": {},
   "source": [
    "The line below may take a while maybe `HDF5` might be a more suiteable format"
   ]
  },
  {
   "cell_type": "code",
   "execution_count": null,
   "metadata": {},
   "outputs": [],
   "source": [
    "POSTERIOR_DF.head()"
   ]
  },
  {
   "cell_type": "code",
   "execution_count": null,
   "metadata": {},
   "outputs": [],
   "source": [
    "thresh = 3.5  # Threshold for identifiying outliers\n",
    "POSTERIORS = {\n",
    "    col: fit_norm_dist_to_ens(POSTERIOR_DF[col].values, thresh=thresh) for col in PRIORS\n",
    "}\n",
    "\n",
    "stacked = (\n",
    "    POSTERIOR_DF.T.loc[PRIORS.keys()]\n",
    "    .T.stack()\n",
    "    .reset_index()\n",
    "    .drop(columns=[\"level_0\"])\n",
    "    .rename(columns={\"level_1\": \"param\", 0: \"x\"})\n",
    ")\n",
    "g = FacetGrid(stacked, col=\"param\", col_wrap=5, sharex=False, sharey=False,)\n",
    "g.map_dataframe(plot_posterior_fit, thresh=thresh)\n",
    "show_plot(g)\n",
    "DataFrame(data=POSTERIORS, index=[\"val\"]).T"
   ]
  },
  {
   "cell_type": "markdown",
   "metadata": {},
   "source": [
    "# Propagate normal posteriors to SEIR and compare to original prediction"
   ]
  },
  {
   "cell_type": "code",
   "execution_count": null,
   "metadata": {},
   "outputs": [],
   "source": [
    "FORECAST_DF = read_csv(\n",
    "    path.join(OUTPUT, \"output\", \"forecast.csv\"), parse_dates=[\"date\"]\n",
    ").set_index(\"date\")"
   ]
  },
  {
   "cell_type": "code",
   "execution_count": null,
   "metadata": {},
   "outputs": [],
   "source": [
    "seir = SEIRModel()\n",
    "print(seir.model_parameters)\n",
    "print(seir.optional_parameters)"
   ]
  },
  {
   "cell_type": "code",
   "execution_count": null,
   "metadata": {},
   "outputs": [],
   "source": [
    "total_infections = (\n",
    "    META_PARS[\"n_hosp\"] / META_PARS[\"mkt_share\"] / POSTERIORS[\"hosp_prop\"]\n",
    ")\n",
    "\n",
    "## Fixed paramters (no distributions)\n",
    "XX = {\n",
    "    \"dates\": FORECAST_DF.index,\n",
    "    \"market_share\": META_PARS[\"mkt_share\"],\n",
    "    \"initial_susceptible\": META_PARS[\"region_pop\"],\n",
    "    \"initial_infected\": 0,\n",
    "    \"initial_recovered\": 0,\n",
    "    \"initial_hospitalized\": META_PARS[\"n_hosp\"] / META_PARS[\"mkt_share\"],\n",
    "}\n",
    "## Variable parameters (distributions)\n",
    "PP = {\n",
    "    \"initial_exposed\": total_infections,\n",
    "    \"incubation_days\": POSTERIORS[\"incubation_days\"],\n",
    "    \"beta\": POSTERIORS[\"beta\"],\n",
    "    \"recovery_days\": POSTERIORS[\"recovery_days\"],\n",
    "    \"nu\": POSTERIORS[\"nu\"],\n",
    "    \"hospitalization_probability\": POSTERIORS[\"hosp_prop\"],\n",
    "    \"hospital_length_of_stay\": POSTERIORS[\"hosp_LOS\"],\n",
    "}"
   ]
  },
  {
   "cell_type": "code",
   "execution_count": null,
   "metadata": {},
   "outputs": [],
   "source": [
    "def update_parameters(ddate, **kwargs):\n",
    "    xx = (ddate - kwargs[\"dates\"][0]).days\n",
    "    ppars = kwargs.copy()\n",
    "    ppars[\"beta\"] = kwargs[\"beta\"] * one_minus_logistic_fcn(\n",
    "        xx, L=kwargs[\"L\"], k=kwargs[\"k\"], x0=kwargs[\"x0\"],\n",
    "    )\n",
    "    return ppars\n",
    "\n",
    "\n",
    "OFFSET = POSTERIOR_DF.offset.mean()\n",
    "\n",
    "PP[\"L\"] = POSTERIORS[\"logistic_L\"]\n",
    "PP[\"x0\"] = POSTERIORS[\"logistic_x0\"] + OFFSET\n",
    "PP[\"k\"] = POSTERIORS[\"logistic_k\"]\n",
    "\n",
    "seir.update_parameters = update_parameters"
   ]
  },
  {
   "cell_type": "code",
   "execution_count": null,
   "metadata": {},
   "outputs": [],
   "source": [
    "%%timeit\n",
    "seir.propagate_uncertainties(XX, PP)"
   ]
  },
  {
   "cell_type": "code",
   "execution_count": null,
   "metadata": {},
   "outputs": [],
   "source": [
    "FORCAST_DF_NORMAL = seir.propagate_uncertainties(XX, PP)"
   ]
  },
  {
   "cell_type": "code",
   "execution_count": null,
   "metadata": {},
   "outputs": [],
   "source": [
    "fig, axs = subplots(ncols=1, nrows=2, figsize=(6, 9))\n",
    "\n",
    "gv_kws = dict(color=\"black\", zorder=10, lw=3, z_factor=0.674)\n",
    "gv_line_kws = {\"ls\": \"--\", \"label\": \"Normal posteriors\"}\n",
    "gv_fill_kws = {\"alpha\": 0.2}\n",
    "\n",
    "fill_kws = {\"alpha\": 0.3, \"edgecolor\": \"k\", \"lw\": 2}\n",
    "line_kws = {\"ls\": \"-\", \"label\": \"General posteriors\", \"lw\": 2}\n",
    "\n",
    "t_range_shifted = FORECAST_DF.index - timedelta(days=OFFSET)\n",
    "\n",
    "# Census\n",
    "ax = axs[0]\n",
    "ax.set_ylabel(f\"COVID-19 Hospital Census\", fontsize=12, fontweight=\"bold\")\n",
    "ax.grid(True)\n",
    "\n",
    "## General posteriors\n",
    "plot_band(\n",
    "    x=FORECAST_DF.index,\n",
    "    y1=FORECAST_DF[\"Hospitalized Census 25%\"],\n",
    "    ym=FORECAST_DF[\"Hospitalized Census Median\"],\n",
    "    y2=FORECAST_DF[\"Hospitalized Census 75%\"],\n",
    "    fill_kws=fill_kws,\n",
    "    line_kws=line_kws,\n",
    "    ax=ax,\n",
    "    zorder=20,\n",
    ")\n",
    "## Normal posteriors\n",
    "plot_gvar(\n",
    "    x=t_range_shifted,\n",
    "    y=FORCAST_DF_NORMAL[\"hospital_census\"].values,\n",
    "    ax=ax,\n",
    "    **gv_kws,\n",
    "    line_kws=gv_line_kws,\n",
    "    fill_kws=gv_fill_kws,\n",
    ")\n",
    "\n",
    "ax.legend(bbox_to_anchor=(1.0, 1.0))\n",
    "\n",
    "\n",
    "# Admits\n",
    "ax = axs[1]\n",
    "ax.set_ylabel(f\"COVID-19 Hospital Admits\", fontsize=12, fontweight=\"bold\")\n",
    "ax.grid(True)\n",
    "\n",
    "## General posteriors\n",
    "plot_band(\n",
    "    x=FORECAST_DF.index,\n",
    "    y1=FORECAST_DF[\"Hospitalized Admits 25%\"],\n",
    "    ym=FORECAST_DF[\"Hospitalized Admits Median\"],\n",
    "    y2=FORECAST_DF[\"Hospitalized Admits 75%\"],\n",
    "    fill_kws=fill_kws,\n",
    "    line_kws=line_kws,\n",
    "    ax=ax,\n",
    "    zorder=20,\n",
    ")\n",
    "\n",
    "## Normal posteriors\n",
    "plot_gvar(\n",
    "    x=t_range_shifted,\n",
    "    y=FORCAST_DF_NORMAL[\"hospital_admits\"].values,\n",
    "    ax=ax,\n",
    "    **gv_kws,\n",
    "    line_kws=gv_line_kws,\n",
    "    fill_kws=gv_fill_kws,\n",
    ")\n",
    "\n",
    "\n",
    "fig.suptitle(\n",
    "    \"General vs normal posteriors @ 50% C.I.\", y=1.02, fontsize=12, fontweight=\"bold\"\n",
    ")\n",
    "fig.autofmt_xdate()\n",
    "fig.tight_layout()\n",
    "\n",
    "despine()\n",
    "show_plot(fig)"
   ]
  },
  {
   "cell_type": "markdown",
   "metadata": {},
   "source": [
    "## Compute normal posteriors given normal priors"
   ]
  },
  {
   "cell_type": "code",
   "execution_count": null,
   "metadata": {},
   "outputs": [],
   "source": [
    "extended_range = date_range(\n",
    "    DATA_DF.index[0] - timedelta(int(OFFSET)), freq=\"D\", periods=OFFSET\n",
    ")\n",
    "tmp = DataFrame(index=extended_range, columns=DATA_DF.columns).fillna(0)\n",
    "extended_data = concat([tmp, DATA_DF])\n",
    "extended_data.head()"
   ]
  },
  {
   "cell_type": "code",
   "execution_count": null,
   "metadata": {},
   "outputs": [],
   "source": [
    "total_infections = META_PARS[\"n_hosp\"] / META_PARS[\"mkt_share\"] / PRIORS[\"hosp_prop\"]\n",
    "\n",
    "## Fixed paramters (no distributions)\n",
    "xx = {\n",
    "    \"dates\": extended_data.index,\n",
    "    \"market_share\": META_PARS[\"mkt_share\"],\n",
    "    \"initial_susceptible\": META_PARS[\"region_pop\"],\n",
    "    \"initial_infected\": 0,\n",
    "    \"initial_recovered\": 0,\n",
    "    \"initial_hospitalized\": META_PARS[\"n_hosp\"] / META_PARS[\"mkt_share\"],\n",
    "}\n",
    "## Variable parameters (distributions)\n",
    "pp = {\n",
    "    \"initial_exposed\": total_infections,\n",
    "    \"incubation_days\": PRIORS[\"incubation_days\"],\n",
    "    \"beta\": PRIORS[\"beta\"],\n",
    "    \"recovery_days\": PRIORS[\"recovery_days\"],\n",
    "    \"nu\": PRIORS[\"nu\"],\n",
    "    \"hospitalization_probability\": PRIORS[\"hosp_prop\"],\n",
    "    \"hospital_length_of_stay\": PRIORS[\"hosp_LOS\"],\n",
    "}\n",
    "\n",
    "## It seems like the fit wants to drastically change incubation days and hosp_prob\n",
    "## The lines below would fix such values to their mean\n",
    "# pp[\"incubation_days\"] = gvar(pp[\"incubation_days\"].mean, pp[\"incubation_days\"].sdev / 2)\n",
    "# pp[\"hospitalization_probability\"] = gvar(\n",
    "#    pp[\"hospitalization_probability\"].mean, pp[\"hospitalization_probability\"].sdev / 5\n",
    "# )"
   ]
  },
  {
   "cell_type": "code",
   "execution_count": null,
   "metadata": {},
   "outputs": [],
   "source": [
    "pp[\"L\"] = PRIORS[\"logistic_L\"]\n",
    "pp[\"x0\"] = PRIORS[\"logistic_x0\"] + OFFSET\n",
    "pp[\"k\"] = PRIORS[\"logistic_k\"]\n",
    "\n",
    "seir.update_parameters = update_parameters\n",
    "seir.fit_start_date = \"2020-03-06\"\n",
    "seir.fit_columns = \"hospital_census\"\n",
    "seir.debug = False\n",
    "\n",
    "yy = gvar(DATA_DF.hosp.values, DATA_DF.hosp.values * 0.1 + 10)"
   ]
  },
  {
   "cell_type": "code",
   "execution_count": null,
   "metadata": {},
   "outputs": [],
   "source": [
    "seir.check_call(xx, yy, pp)"
   ]
  },
  {
   "cell_type": "code",
   "execution_count": null,
   "metadata": {},
   "outputs": [],
   "source": [
    "%%timeit\n",
    "fit = nonlinear_fit(data=(xx, yy), prior=pp, fcn=seir.fit_fcn, debug=False)"
   ]
  },
  {
   "cell_type": "code",
   "execution_count": null,
   "metadata": {
    "scrolled": false
   },
   "outputs": [],
   "source": [
    "fit = nonlinear_fit(data=(xx, yy), prior=pp, fcn=seir.fit_fcn, debug=False)"
   ]
  },
  {
   "cell_type": "code",
   "execution_count": null,
   "metadata": {},
   "outputs": [],
   "source": [
    "x_prediction = xx.copy()\n",
    "tf = FORECAST_DF.iloc[:100]\n",
    "x_prediction[\"dates\"] = tf.index\n",
    "df = seir.propagate_uncertainties(x_prediction, fit.p)\n",
    "df.index -= timedelta(days=OFFSET)\n",
    "\n",
    "fig, axs = subplots(ncols=1, nrows=2, figsize=(9, 9), sharex=False)\n",
    "\n",
    "gv_kws = dict(color=\"black\", zorder=10, lw=3, z_factor=0.674)\n",
    "gv_line_kws = {\"ls\": \"--\", \"label\": \"Normal posteriors\"}\n",
    "gv_fill_kws = {\"alpha\": 0.2}\n",
    "\n",
    "fill_kws = {\"alpha\": 0.3, \"edgecolor\": \"k\", \"lw\": 2}\n",
    "line_kws = {\"ls\": \"-\", \"label\": \"Data\", \"lw\": 2}\n",
    "\n",
    "\n",
    "# Census\n",
    "ax = axs[0]\n",
    "ax.set_ylabel(f\"COVID-19 Hospital Census\", fontsize=12, fontweight=\"bold\")\n",
    "ax.grid(True)\n",
    "\n",
    "## Fit\n",
    "plot_gvar(\n",
    "    x=df.index,\n",
    "    y=df[\"hospital_census\"].values,\n",
    "    ax=ax,\n",
    "    **gv_kws,\n",
    "    line_kws=gv_line_kws,\n",
    "    fill_kws=gv_fill_kws,\n",
    ")\n",
    "\n",
    "## Original\n",
    "ax.set_ylabel(f\"COVID-19 Hospital Census\", fontsize=12, fontweight=\"bold\")\n",
    "plot_band(\n",
    "    x=tf.index,\n",
    "    y1=tf[\"Hospitalized Census 25%\"],\n",
    "    ym=tf[\"Hospitalized Census Median\"],\n",
    "    y2=tf[\"Hospitalized Census 75%\"],\n",
    "    fill_kws=fill_kws,\n",
    "    line_kws=line_kws,\n",
    "    ax=ax,\n",
    "    zorder=20,\n",
    ")\n",
    "\n",
    "## Data\n",
    "plot_gvar(\n",
    "    x=DATA_DF.index,\n",
    "    y=yy,\n",
    "    ax=ax,\n",
    "    z_factor=0.674,\n",
    "    color=\"red\",\n",
    "    line_kws={**line_kws, \"label\": \"Data\"},\n",
    "    fill_kws={**fill_kws, \"alpha\": 0.5, \"zorder\": 5},\n",
    ")\n",
    "ax.legend(loc=\"upper left\")\n",
    "\n",
    "\n",
    "# Admits\n",
    "ax = axs[1]\n",
    "ax.grid(True)\n",
    "\n",
    "## Prediction\n",
    "plot_gvar(\n",
    "    x=df.index,\n",
    "    y=df[\"hospital_admits\"].values,\n",
    "    ax=ax,\n",
    "    **gv_kws,\n",
    "    line_kws=gv_line_kws,\n",
    "    fill_kws=gv_fill_kws,\n",
    ")\n",
    "ax.grid(True)\n",
    "\n",
    "\n",
    "## Original\n",
    "plot_band(\n",
    "    x=tf.index,\n",
    "    y1=tf[\"Hospitalized Admits 25%\"],\n",
    "    ym=tf[\"Hospitalized Admits Median\"],\n",
    "    y2=tf[\"Hospitalized Admits 75%\"],\n",
    "    fill_kws=fill_kws,\n",
    "    line_kws=line_kws,\n",
    "    ax=ax,\n",
    "    zorder=20,\n",
    ")\n",
    "\n",
    "\n",
    "fig.suptitle(\n",
    "    \"General PDF vs normal PDF @ 50% C.I.\", y=1.02, fontsize=12, fontweight=\"bold\"\n",
    ")\n",
    "fig.autofmt_xdate()\n",
    "fig.tight_layout()\n",
    "\n",
    "despine()\n",
    "show_plot(fig)"
   ]
  },
  {
   "cell_type": "code",
   "execution_count": null,
   "metadata": {},
   "outputs": [],
   "source": [
    "print(fit)\n",
    "\n",
    "name_map = {\n",
    "    \"L\": \"logistic_L\",\n",
    "    \"x0\": \"logistic_x0\",\n",
    "    \"k\": \"logistic_k\",\n",
    "    \"hospitalization_probability\": \"hosp_prop\",\n",
    "    \"hospital_length_of_stay\": \"hosp_LOS\",\n",
    "}\n",
    "\n",
    "new_posterior = {name_map.get(key, key): val for key, val in fit.p.items()}\n",
    "new_posterior[\"logistic_x0\"] -= OFFSET\n",
    "new_prior = {name_map.get(key, key): val for key, val in pp.items()}\n",
    "\n",
    "comparison = DataFrame(\n",
    "    [new_prior, new_posterior, POSTERIORS],\n",
    "    index=[\"Priors\", \"PDF from normal approx\", \"PDF from general dists\",],\n",
    ").T.dropna()\n",
    "\n",
    "comparison[\"diff\"] = (\n",
    "    comparison[\"PDF from normal approx\"] - comparison[\"PDF from general dists\"]\n",
    ")\n",
    "comparison[\"z\"] = comparison[\"diff\"].apply(lambda x: abs(x.mean) / x.sdev)\n",
    "comparison.sort_values(\"z\", ascending=False)"
   ]
  },
  {
   "cell_type": "code",
   "execution_count": null,
   "metadata": {},
   "outputs": [],
   "source": []
  }
 ],
 "metadata": {
  "kernelspec": {
   "display_name": "chime",
   "language": "python",
   "name": "chime"
  },
  "language_info": {
   "codemirror_mode": {
    "name": "ipython",
    "version": 3
   },
   "file_extension": ".py",
   "mimetype": "text/x-python",
   "name": "python",
   "nbconvert_exporter": "python",
   "pygments_lexer": "ipython3",
   "version": "3.7.5"
  }
 },
 "nbformat": 4,
 "nbformat_minor": 2
}
